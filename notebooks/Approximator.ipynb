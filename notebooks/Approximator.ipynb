{
  "nbformat": 4,
  "nbformat_minor": 0,
  "metadata": {
    "colab": {
      "name": "Approximator",
      "provenance": [],
      "collapsed_sections": [],
      "authorship_tag": "ABX9TyMctyb9KkI2ADMnK5NzT5xM",
      "include_colab_link": true
    },
    "kernelspec": {
      "name": "python3",
      "display_name": "Python 3"
    },
    "language_info": {
      "name": "python"
    }
  },
  "cells": [
    {
      "cell_type": "markdown",
      "metadata": {
        "id": "view-in-github",
        "colab_type": "text"
      },
      "source": [
        "<a href=\"https://colab.research.google.com/github/charleslien/osu_beatmap_generator/blob/main/Approximator.ipynb\" target=\"_parent\"><img src=\"https://colab.research.google.com/assets/colab-badge.svg\" alt=\"Open In Colab\"/></a>"
      ]
    },
    {
      "cell_type": "markdown",
      "metadata": {
        "id": "BERcbSWqM0qQ"
      },
      "source": [
        "Transcribed from https://git.mine2.live/DevMiner/osu-api/src/branch/master/src/PathApproximator.ts"
      ]
    },
    {
      "cell_type": "code",
      "metadata": {
        "id": "6-22ketpbrpg"
      },
      "source": [
        "import enum\n",
        "\n",
        "class PathType(enum.Enum):\n",
        "  LINEAR = 0\n",
        "  PERFECT_CURVE = 1\n",
        "  CATMULL = 2\n",
        "  BEZIER = 3"
      ],
      "execution_count": null,
      "outputs": []
    },
    {
      "cell_type": "code",
      "metadata": {
        "id": "e4QcyFWv1DUK"
      },
      "source": [
        "from dataclasses import dataclass\n",
        "import math\n",
        "import numpy as np\n",
        "\n",
        "BEZIER_TOLERANCE = 0.25\n",
        "CIRCULAR_ARC_TOLERANCE = 0.1\n",
        "CATMULL_DETAIL = 50\n",
        "\n",
        "def approximateBezier(control_points):\n",
        "    output = []\n",
        "    count = len(control_points)\n",
        "\n",
        "    if count == 0:\n",
        "      return output\n",
        "    \n",
        "    subdivision_buffer_1 = {}\n",
        "    subdivision_buffer_2 = {}\n",
        "\n",
        "    to_flatten = [control_points[:]]\n",
        "    free_buffers = []\n",
        "\n",
        "    left_child = subdivision_buffer_2\n",
        "\n",
        "    while len(to_flatten) > 0:\n",
        "      parent = to_flatten.pop()\n",
        "\n",
        "      if rateFlatnessOfBezier(parent):\n",
        "        # If the control points we currently operate on are sufficiently \"flat\", we use\n",
        "        # an extension to De Casteljau's algorithm to obtain a piecewise-linear approximation\n",
        "        # of the bezier curve represented by our control points, consisting of the same amount\n",
        "        # of points as there are control points.\n",
        "        _bezierApproximate(parent, output, subdivision_buffer_1, subdivision_buffer_2, count)\n",
        "\n",
        "        free_buffers.append(parent)\n",
        "        continue\n",
        "      \n",
        "      # If we do not yet have a sufficiently \"flat\" (in other words, detailed) approximation we keep\n",
        "      # subdividing the curve we are currently operating on.\n",
        "      right_child = free_buffers.pop() if len(free_buffers) > 0 else {}\n",
        "\n",
        "      subdivideBezier(parent, left_child, right_child, subdivision_buffer_1, count)\n",
        "\n",
        "      for i in range(count):\n",
        "        parent[i] = left_child[i]\n",
        "      \n",
        "      to_flatten.append(right_child)\n",
        "      to_flatten.append(parent)\n",
        "    \n",
        "    output.append(control_points[-1])\n",
        "\n",
        "    return output\n",
        "\n",
        "def approximateCatmull(control_points):\n",
        "  result = []\n",
        "  control_points_length = len(control_points)\n",
        "\n",
        "  for i in range(control_points_length - 1):\n",
        "    v1 = control_points[i - 1] if i > 0 else control_points[i]\n",
        "    v2 = control_points[i]\n",
        "    v3 = control_points[i + 1] if i < control_points_length - 1 else v2 + v2 - v1\n",
        "    v4 = control_points[i + 2] if i < control_points_length - 2 else v3 + v3 - v2\n",
        "\n",
        "    for c in range(CATMULL_DETAIL + 1):\n",
        "      result.append(findCatmullPoint(v1, v2, v3, v4, c / CATMULL_DETAIL))\n",
        "  \n",
        "  return result\n",
        "\n",
        "def approximateCircularArc(control_points):\n",
        "  a = control_points[0]\n",
        "  b = control_points[1]\n",
        "  c = control_points[2]\n",
        "\n",
        "  a_sq = np.linalg.norm(b - c) ** 2\n",
        "  b_sq = np.linalg.norm(a - c) ** 2\n",
        "  c_sq = np.linalg.norm(a - b) ** 2\n",
        "\n",
        "  # If we have a degenerate triangle where a side-length is almost zero, then give up and fall\n",
        "  # back to a more numerically stable method.\n",
        "  if a_sq < 0.003 or b_sq < 0.003 or c_sq < 0.003:\n",
        "    return []\n",
        "  \n",
        "  s = a_sq * (b_sq + c_sq - a_sq)\n",
        "  t = b_sq * (a_sq + c_sq - b_sq)\n",
        "  u = c_sq * (a_sq + b_sq - c_sq)\n",
        "\n",
        "  total = s + t + u\n",
        "\n",
        "  # If we have a degenerate triangle with an almost-zero size, then give up and fall\n",
        "  # back to a more numerically stable method.\n",
        "  if total < 0.003:\n",
        "    return []\n",
        "  \n",
        "  centre = (a * s + b * t + c * u) / total\n",
        "  d_a = a - centre\n",
        "  d_c = c - centre\n",
        "\n",
        "  r = np.linalg.norm(d_a)\n",
        "\n",
        "  theta_start = math.atan2(d_a[1], d_a[0])\n",
        "  theta_end = math.atan2(d_c[1], d_c[0])\n",
        "\n",
        "  while theta_end < theta_start:\n",
        "    theta_end += 2*math.pi\n",
        "\n",
        "  dir = 1\n",
        "  theta_range = theta_end - theta_start\n",
        "\n",
        "  # Decide in which direction to draw the circle, depending on which side of\n",
        "  # AC B lies.\n",
        "  ortho_a_to_c = c - a\n",
        "  \n",
        "  ortho_a_to_c = np.array((ortho_a_to_c[1], -ortho_a_to_c[0]))\n",
        "\n",
        "  if ortho_a_to_c.dot(b - a) < 0:\n",
        "    dir = -dir\n",
        "    theta_range = 2 * math.pi - theta_range\n",
        "\n",
        "  # We select the amount of points for the approximation by requiring the discrete curvature\n",
        "  # to be smaller than the provided tolerance. The exact angle required to meet the tolerance\n",
        "  # is: 2 * Math.Acos(1 - TOLERANCE / r)\n",
        "  # The special case is required for extremely short sliders where the radius is smaller than\n",
        "  # the tolerance. This is a pathological rather than a realistic case.\n",
        "  amount_points = (\n",
        "      2\n",
        "      if 2 * r <= CIRCULAR_ARC_TOLERANCE\n",
        "      else max(2, math.ceil(theta_range / (2 * math.acos(1 - CIRCULAR_ARC_TOLERANCE / r))))\n",
        "  )\n",
        "  \n",
        "  output = []\n",
        "  for i in range(amount_points):\n",
        "    fract = i / (amount_points - 1)\n",
        "    theta = theta_start + dir * fract * theta_range\n",
        "\n",
        "    o = np.array((math.cos(theta), math.sin(theta))) * r\n",
        "\n",
        "    output.append(centre + o)\n",
        "  \n",
        "  return output\n",
        "\n",
        "def rateFlatnessOfBezier(control_points):\n",
        "  length = len(control_points)\n",
        "  for i in range(1, length - 1):\n",
        "    scale = control_points[i] * 2\n",
        "    sub = control_points[i - 1] - scale\n",
        "    total = sub + control_points[i + 1]\n",
        "\n",
        "    if np.linalg.norm(total) > BEZIER_TOLERANCE * 2:\n",
        "      return False\n",
        "\n",
        "  return True\n",
        "\n",
        "def subdivideBezier(control_points, l, r, subdivision_buffer, count):\n",
        "  midpoints = subdivision_buffer\n",
        "\n",
        "  for i in range(count):\n",
        "    midpoints[i] = control_points[i]\n",
        "  \n",
        "  for i in range(count):\n",
        "    l[i] = midpoints[0]\n",
        "    r[count - i - 1] = midpoints[count - i - 1]\n",
        "\n",
        "    for j in range(count - i - 1):\n",
        "      midpoints[j] = (midpoints[j] + midpoints[j + 1]) / 2\n",
        "\n",
        "def _bezierApproximate(control_points, output, subdivision_buffer_1, subdivision_buffer_2, count):\n",
        "  l = subdivision_buffer_1\n",
        "  r = subdivision_buffer_2\n",
        "\n",
        "  subdivideBezier(control_points, l, r, subdivision_buffer_1, count)\n",
        "\n",
        "  for i in range(count - 1):\n",
        "    l[count + i] = r[i + 1]\n",
        "\n",
        "  for i in range(1, count - 1):\n",
        "    index = 2 * i\n",
        "    p = (l[index - 1] + l[index] * 2 + l[index + 1]) * 0.25\n",
        "\n",
        "    output.append(p)\n",
        "\n",
        "def findCatmullPoint(v1, v2, v3, v4, t):\n",
        "  t2 = t * t\n",
        "  t3 = t2 * t\n",
        "\n",
        "  return (0.5 * \n",
        "          (2*v2 +\n",
        "          (-v1 + v3) * t +\n",
        "          (2*v1 - 5*v2 + 4*v3 - v4) * t2 +\n",
        "          (-v1 + 3*v2 - 3*v3 + v4) * t3))\n",
        "\n",
        "def calculatePath(control_points, types):\n",
        "  if len(control_points) == 0:\n",
        "    return []\n",
        "  \n",
        "  calculated_path = []\n",
        "  \n",
        "  vertices = control_points[:]\n",
        "  \n",
        "  start = 0\n",
        "\n",
        "  for i in range(len(control_points)):\n",
        "    if types[i] == None and i < len(control_points) - 1:\n",
        "      continue\n",
        "    \n",
        "    segment_vertices = vertices[start:i + 1]\n",
        "    segment_type = types[start] or PathType.Linear\n",
        "\n",
        "    for t in calculateSubPath(segment_vertices, segment_type):\n",
        "      if len(calculated_path) == 0 or any(calculated_path[-1] != t):\n",
        "        calculated_path.append(t)\n",
        "    \n",
        "    start = i\n",
        "  \n",
        "  return calculated_path\n",
        "\n",
        "def calculateSubPath(sub_control_points, path_type):\n",
        "  if path_type == PathType.LINEAR:\n",
        "    return sub_control_points\n",
        "  elif path_type == PathType.PERFECT_CURVE and len(sub_control_points) == 3:\n",
        "    subpath = approximateCircularArc(sub_control_points)\n",
        "    if len(subpath) > 0:\n",
        "      return subpath\n",
        "  elif path_type == PathType.CATMULL:\n",
        "    return approximateCatmull(sub_control_points)\n",
        "  \n",
        "  return approximateBezier(sub_control_points)"
      ],
      "execution_count": null,
      "outputs": []
    },
    {
      "cell_type": "code",
      "metadata": {
        "id": "yHHTBDEhg_Iz"
      },
      "source": [
        "import numpy as np\n",
        "from scipy import optimize\n",
        "\n",
        "def getCumulativeLength(calculated_path):\n",
        "  cumulative_length = [0]\n",
        "  for i in range(1, len(calculated_path)):\n",
        "    segment_start = calculated_path[i - 1]\n",
        "    segment = calculated_path[i] - segment_start\n",
        "\n",
        "    segment_length = np.linalg.norm(segment)\n",
        "\n",
        "    cumulative_length.append(cumulative_length[-1] + segment_length)\n",
        "\n",
        "  return cumulative_length\n",
        "\n",
        "def getEndPoint(calculated_path, length, cumulative_length = None):\n",
        "  if cumulative_length is None:\n",
        "    cumulative_length = getCumulativeLength(calculated_path)\n",
        "\n",
        "  if length <= 0:\n",
        "    return calculated_path[-1]\n",
        "\n",
        "  for i in range(1, len(calculated_path)):\n",
        "    if cumulative_length[i] > length:\n",
        "      distance_to_travel = length - cumulative_length[i - 1]\n",
        "      \n",
        "      segment_start = calculated_path[i - 1]\n",
        "      segment = calculated_path[i] - segment_start\n",
        "      segment = segment / np.linalg.norm(segment)\n",
        "      return segment_start + segment * distance_to_travel\n",
        "  \n",
        "  segment_start = calculated_path[-2]\n",
        "  segment_end = calculated_path[-1]\n",
        "  segment = segment_end - segment_start\n",
        "  segment = segment / np.linalg.norm(segment)\n",
        "  return segment_end + segment * (length - cumulative_length[-1])\n",
        "\n",
        "def getCircleWithEndpointsAndLength(start, end, length):\n",
        "  \"\"\"\n",
        "  returns angles, midpoints\n",
        "  \"\"\"\n",
        "\n",
        "  displacement = end - start\n",
        "  displacement_length = np.linalg.norm(displacement)\n",
        "  if displacement_length > length:\n",
        "    return (0, 0), (start + displacement / 2, start + displacement / 2)\n",
        "\n",
        "  # chord_length / arc_length = 0 -> angle = 2 * pi\n",
        "  # chord_length / arc_length = 1 -> angle = 0\n",
        "  angle = optimize.fsolve(angleFromChordAndArcLength, # equation to find root\n",
        "                           [2 * math.pi * (1 - displacement_length / length)], # starting guess\n",
        "                           args=(displacement_length, length),\n",
        "                           fprime=angleFromChordAndArcLengthDerivative)[0]\n",
        "  angle = abs(angle)\n",
        "  while angle > 2 * math.pi:\n",
        "    angle -= 2 * math.pi\n",
        "\n",
        "  rotated = np.array((displacement[1], -displacement[0]))\n",
        "  rotated *= (1 - math.cos(angle / 2)) / (2 * math.sin(angle / 2))\n",
        "\n",
        "  arc_midpoint_1 = start + displacement / 2 + rotated\n",
        "  arc_midpoint_2 = start + displacement / 2 - rotated\n",
        "\n",
        "  return ((angle, -angle),\n",
        "          (arc_midpoint_1, arc_midpoint_2))\n",
        "\n",
        "def angleFromChordAndArcLength(angle, chord_length, arc_length):\n",
        "  angle2 = angle * angle\n",
        "  return (2 * arc_length * arc_length / angle2 * (1 - math.cos(angle)) -\n",
        "          chord_length * chord_length)\n",
        "\n",
        "def angleFromChordAndArcLengthDerivative(angle, chord_length, arc_length):\n",
        "  \"\"\"\n",
        "  derivative with respect to radius\n",
        "  \"\"\"\n",
        "  angle2 = angle * angle\n",
        "  angle3 = angle * angle2\n",
        "  arc_length2 = arc_length * arc_length\n",
        "  return (-4 * arc_length2 / angle3 * (1 - math.cos(angle)) +\n",
        "          2 * arc_length2 / angle2 * math.sin(angle))"
      ],
      "execution_count": null,
      "outputs": []
    },
    {
      "cell_type": "code",
      "metadata": {
        "id": "g_HrlV8EV-ls"
      },
      "source": [
        "import numpy as np\n",
        "\n",
        "PATH_COMPARISON_GRANULARITY = 1000\n",
        "\n",
        "def comparePaths(original, candidates):\n",
        "  original_path, original_length = original\n",
        "  num_candidates = len(candidates)\n",
        "  \n",
        "  original_cumulative_length = getCumulativeLength(original_path)\n",
        "  candidate_cumulative_lengths = [getCumulativeLength(candidate) for candidate, _ in candidates]\n",
        "\n",
        "  scores = [0] * num_candidates\n",
        "  for i in range(PATH_COMPARISON_GRANULARITY):\n",
        "    progress = i / PATH_COMPARISON_GRANULARITY\n",
        "    \n",
        "    original_point = getEndPoint(original_path,\n",
        "                                 original_length * progress,\n",
        "                                 cumulative_length=original_cumulative_length)\n",
        "    \n",
        "    for i, (candidate_path, length) in enumerate(candidates):\n",
        "      point = getEndPoint(candidate_path,\n",
        "                          length * progress,\n",
        "                          cumulative_length=candidate_cumulative_lengths[i])\n",
        "      dist = np.linalg.norm(point - original_point)\n",
        "      scores[i] += dist * dist\n",
        "  \n",
        "  return np.argmin(scores), scores"
      ],
      "execution_count": null,
      "outputs": []
    },
    {
      "cell_type": "code",
      "metadata": {
        "id": "8PJa5yeabdYg"
      },
      "source": [
        "import matplotlib.pyplot as plt\n",
        "import numpy as np"
      ],
      "execution_count": null,
      "outputs": []
    },
    {
      "cell_type": "code",
      "metadata": {
        "id": "bnhkMJ-PWDu2"
      },
      "source": [
        "# 248,270,12456,2,0,B|270:245|270:245|280:217|259:158,1,104,2|0,0:2|1:2,0:0:0:0:\n",
        "points = calculatePath([np.array((248, 270)), np.array((270, 245)), np.array((280, 217)), np.array((259, 158))], [PathType.BEZIER, PathType.BEZIER, None, None])\n",
        "curve_length = 104\n",
        "cumulative_length = getCumulativeLength(points)\n",
        "end_point = getEndPoint(points, curve_length, cumulative_length=cumulative_length)"
      ],
      "execution_count": null,
      "outputs": []
    },
    {
      "cell_type": "code",
      "metadata": {
        "colab": {
          "base_uri": "https://localhost:8080/",
          "height": 282
        },
        "id": "CCZSD994b-_n",
        "outputId": "49e0bbf0-6a65-4cb4-86af-16f3f31e7566"
      },
      "source": [
        "plt.clf()\n",
        "plt.plot([p[0] for p in points], [p[1] for p in points])"
      ],
      "execution_count": null,
      "outputs": [
        {
          "output_type": "execute_result",
          "data": {
            "text/plain": [
              "[<matplotlib.lines.Line2D at 0x7fad2a645850>]"
            ]
          },
          "metadata": {
            "tags": []
          },
          "execution_count": 15
        },
        {
          "output_type": "display_data",
          "data": {
            "image/png": "[encoded data removed]",
            "text/plain": [
              "<Figure size 432x288 with 1 Axes>"
            ]
          },
          "metadata": {
            "tags": [],
            "needs_background": "light"
          }
        }
      ]
    },
    {
      "cell_type": "code",
      "metadata": {
        "id": "hUgvpAtWs_vS"
      },
      "source": [
        "(arc_angle_1, arc_angle_2),  (midpoint_1, midpoint_2) = getCircleWithEndpointsAndLength(points[0], end_point, curve_length)"
      ],
      "execution_count": null,
      "outputs": []
    },
    {
      "cell_type": "code",
      "metadata": {
        "id": "KD8VMp1tw1Tk"
      },
      "source": [
        "circle_fit_1 = calculatePath([points[0], midpoint_1, end_point], [PathType.PERFECT_CURVE, None, None])\n",
        "circle_fit_2 = calculatePath([points[0], midpoint_2, end_point], [PathType.PERFECT_CURVE, None, None])\n",
        "straight = calculatePath([points[0], end_point], [PathType.LINEAR, None])\n",
        "\n",
        "cumulative_length_circle_1 = getCumulativeLength(circle_fit_1)\n",
        "cumulative_length_circle_2 = getCumulativeLength(circle_fit_2)"
      ],
      "execution_count": null,
      "outputs": []
    },
    {
      "cell_type": "code",
      "metadata": {
        "colab": {
          "base_uri": "https://localhost:8080/",
          "height": 265
        },
        "id": "o0XpxgVyxyQo",
        "outputId": "0e9ff524-9786-48b5-ec49-6416df056203"
      },
      "source": [
        "plt.clf()\n",
        "plt.plot([p[0] for p in (points + [end_point])], [p[1] for p in (points + [end_point])])\n",
        "plt.plot([p[0] for p in circle_fit_1], [p[1] for p in circle_fit_1])\n",
        "plt.plot([p[0] for p in circle_fit_2], [p[1] for p in circle_fit_2])\n",
        "plt.plot([p[0] for p in straight], [p[1] for p in straight])\n",
        "plt.gca().set_aspect('equal')"
      ],
      "execution_count": null,
      "outputs": [
        {
          "output_type": "display_data",
          "data": {
            "image/png": "[encoded data removed]",
            "text/plain": [
              "<Figure size 432x288 with 1 Axes>"
            ]
          },
          "metadata": {
            "tags": [],
            "needs_background": "light"
          }
        }
      ]
    },
    {
      "cell_type": "code",
      "metadata": {
        "id": "SI_hSSzH18dc",
        "colab": {
          "base_uri": "https://localhost:8080/"
        },
        "outputId": "f2aca96a-0aaa-4f6b-ab41-ea713ccdb939"
      },
      "source": [
        "comparePaths((points, cumulative_length[-1]),\n",
        "             [(circle_fit_1, cumulative_length_circle_1[-1]),\n",
        "              (circle_fit_2, cumulative_length_circle_2[-1]),\n",
        "              (straight, np.linalg.norm(straight[0] - straight[-1]))])"
      ],
      "execution_count": null,
      "outputs": [
        {
          "output_type": "execute_result",
          "data": {
            "text/plain": [
              "(1, [629510.6052652481, 109556.11682567555, 223140.68886230866])"
            ]
          },
          "metadata": {
            "tags": []
          },
          "execution_count": 19
        }
      ]
    },
    {
      "cell_type": "code",
      "metadata": {
        "id": "cHMNq8BuGJ2O"
      },
      "source": [
        ""
      ],
      "execution_count": null,
      "outputs": []
    }
  ]
}